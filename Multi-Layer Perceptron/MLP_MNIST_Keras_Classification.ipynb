{
 "cells": [
  {
   "cell_type": "markdown",
   "metadata": {
    "colab_type": "text",
    "id": "33SNIang3LdY"
   },
   "source": [
    "# MNIST Digits Classification with Multi-Layer-Perceptron"
   ]
  },
  {
   "cell_type": "code",
   "execution_count": 32,
   "metadata": {
    "colab": {},
    "colab_type": "code",
    "executionInfo": {
     "elapsed": 1050,
     "status": "ok",
     "timestamp": 1594546384913,
     "user": {
      "displayName": "Soharab Hossain Shaikh",
      "photoUrl": "https://lh3.googleusercontent.com/a-/AOh14GhBdf9_yxWk3w2Eoi255TRwwwdECUWdZJ9Hht8S=s64",
      "userId": "09822763254488834038"
     },
     "user_tz": -330
    },
    "id": "fvjgeLkrzLXu"
   },
   "outputs": [],
   "source": [
    "import keras\n",
    "from keras.datasets import mnist\n",
    "from keras.models import Sequential\n",
    "from keras.layers import Dense, Dropout\n",
    "from keras.optimizers import RMSprop\n",
    "\n",
    "import numpy as np\n",
    "import matplotlib.pyplot as plt"
   ]
  },
  {
   "cell_type": "markdown",
   "metadata": {
    "colab_type": "text",
    "id": "u0VEGiWCkNjb"
   },
   "source": [
    "### Parameter Settings"
   ]
  },
  {
   "cell_type": "code",
   "execution_count": 33,
   "metadata": {
    "colab": {},
    "colab_type": "code",
    "executionInfo": {
     "elapsed": 1059,
     "status": "ok",
     "timestamp": 1594546386230,
     "user": {
      "displayName": "Soharab Hossain Shaikh",
      "photoUrl": "https://lh3.googleusercontent.com/a-/AOh14GhBdf9_yxWk3w2Eoi255TRwwwdECUWdZJ9Hht8S=s64",
      "userId": "09822763254488834038"
     },
     "user_tz": -330
    },
    "id": "3gMozExazObU"
   },
   "outputs": [],
   "source": [
    "batch_size = 128\n",
    "num_classes = 10\n",
    "epochs = 20"
   ]
  },
  {
   "cell_type": "markdown",
   "metadata": {
    "colab_type": "text",
    "id": "Y5yFt9jB3eT3"
   },
   "source": [
    "### Split Data into Training and Test Set"
   ]
  },
  {
   "cell_type": "code",
   "execution_count": 34,
   "metadata": {
    "colab": {},
    "colab_type": "code",
    "executionInfo": {
     "elapsed": 1429,
     "status": "ok",
     "timestamp": 1594546389382,
     "user": {
      "displayName": "Soharab Hossain Shaikh",
      "photoUrl": "https://lh3.googleusercontent.com/a-/AOh14GhBdf9_yxWk3w2Eoi255TRwwwdECUWdZJ9Hht8S=s64",
      "userId": "09822763254488834038"
     },
     "user_tz": -330
    },
    "id": "7mtdlr1fzsPl"
   },
   "outputs": [],
   "source": [
    "# The data, split between train and test sets\n",
    "(x_train, y_train), (x_test, y_test) = mnist.load_data()"
   ]
  },
  {
   "cell_type": "code",
   "execution_count": 35,
   "metadata": {
    "colab": {
     "base_uri": "https://localhost:8080/",
     "height": 35
    },
    "colab_type": "code",
    "executionInfo": {
     "elapsed": 1212,
     "status": "ok",
     "timestamp": 1594546398865,
     "user": {
      "displayName": "Soharab Hossain Shaikh",
      "photoUrl": "https://lh3.googleusercontent.com/a-/AOh14GhBdf9_yxWk3w2Eoi255TRwwwdECUWdZJ9Hht8S=s64",
      "userId": "09822763254488834038"
     },
     "user_tz": -330
    },
    "id": "6rnyqV7aXw4P",
    "outputId": "5ff235b7-1546-4384-c5ea-467d6538434d"
   },
   "outputs": [
    {
     "data": {
      "text/plain": [
       "array([5, 0, 4, ..., 5, 6, 8], dtype=uint8)"
      ]
     },
     "execution_count": 35,
     "metadata": {
      "tags": []
     },
     "output_type": "execute_result"
    }
   ],
   "source": [
    "y_train"
   ]
  },
  {
   "cell_type": "markdown",
   "metadata": {
    "colab_type": "text",
    "id": "hZaiUO4FV8I0"
   },
   "source": []
  },
  {
   "cell_type": "code",
   "execution_count": 29,
   "metadata": {
    "colab": {
     "base_uri": "https://localhost:8080/",
     "height": 283
    },
    "colab_type": "code",
    "executionInfo": {
     "elapsed": 1270,
     "status": "ok",
     "timestamp": 1594542378263,
     "user": {
      "displayName": "Soharab Hossain Shaikh",
      "photoUrl": "https://lh3.googleusercontent.com/a-/AOh14GhBdf9_yxWk3w2Eoi255TRwwwdECUWdZJ9Hht8S=s64",
      "userId": "09822763254488834038"
     },
     "user_tz": -330
    },
    "id": "BJbj7XrdgFnJ",
    "outputId": "64ba4e0c-4f7c-4441-be19-13764f950d6f"
   },
   "outputs": [
    {
     "data": {
      "image/png": "[encoded data removed]",
      "text/plain": [
       "<Figure size 432x288 with 1 Axes>"
      ]
     },
     "metadata": {
      "needs_background": "light",
      "tags": []
     },
     "output_type": "display_data"
    },
    {
     "name": "stdout",
     "output_type": "stream",
     "text": [
      "Digit : 0\n"
     ]
    }
   ],
   "source": [
    "ind = 7434\n",
    "sample_image = x_train[ind] \n",
    "pixels = sample_image.reshape((28, 28))\n",
    "plt.imshow(pixels, cmap='gray')\n",
    "plt.show()\n",
    "print('Digit :',np.argmax(y_train[ind]))\n"
   ]
  },
  {
   "cell_type": "markdown",
   "metadata": {
    "colab_type": "text",
    "id": "eUHn2ES_3bRA"
   },
   "source": [
    "### Preprocess Input Images"
   ]
  },
  {
   "cell_type": "code",
   "execution_count": 36,
   "metadata": {
    "colab": {
     "base_uri": "https://localhost:8080/",
     "height": 53
    },
    "colab_type": "code",
    "executionInfo": {
     "elapsed": 1152,
     "status": "ok",
     "timestamp": 1594546460949,
     "user": {
      "displayName": "Soharab Hossain Shaikh",
      "photoUrl": "https://lh3.googleusercontent.com/a-/AOh14GhBdf9_yxWk3w2Eoi255TRwwwdECUWdZJ9Hht8S=s64",
      "userId": "09822763254488834038"
     },
     "user_tz": -330
    },
    "id": "46uMyde0zul4",
    "outputId": "9d9b6235-79cd-4f3b-b391-6d6f1b7bf5e5"
   },
   "outputs": [
    {
     "name": "stdout",
     "output_type": "stream",
     "text": [
      "60000 train samples\n",
      "10000 test samples\n"
     ]
    }
   ],
   "source": [
    "x_train = x_train.reshape(60000, 784)\n",
    "x_test = x_test.reshape(10000, 784)\n",
    "x_train = x_train.astype('float32')\n",
    "x_test = x_test.astype('float32')\n",
    "x_train /= 255\n",
    "x_test /= 255\n",
    "\n",
    "print(x_train.shape[0], 'train samples')\n",
    "print(x_test.shape[0], 'test samples')\n",
    "\n",
    "# Convert class vectors to binary class matrices\n",
    "y_train = keras.utils.to_categorical(y_train, num_classes)\n",
    "y_test = keras.utils.to_categorical(y_test, num_classes)\n"
   ]
  },
  {
   "cell_type": "code",
   "execution_count": 31,
   "metadata": {
    "colab": {
     "base_uri": "https://localhost:8080/",
     "height": 144
    },
    "colab_type": "code",
    "executionInfo": {
     "elapsed": 1045,
     "status": "ok",
     "timestamp": 1594542392404,
     "user": {
      "displayName": "Soharab Hossain Shaikh",
      "photoUrl": "https://lh3.googleusercontent.com/a-/AOh14GhBdf9_yxWk3w2Eoi255TRwwwdECUWdZJ9Hht8S=s64",
      "userId": "09822763254488834038"
     },
     "user_tz": -330
    },
    "id": "U2JKJfSOIeDX",
    "outputId": "f2cc041e-56cd-45fd-fdb9-54f820c95c4c"
   },
   "outputs": [
    {
     "data": {
      "text/plain": [
       "array([[0., 0., 0., ..., 0., 0., 0.],\n",
       "       [1., 0., 0., ..., 0., 0., 0.],\n",
       "       [0., 0., 0., ..., 0., 0., 0.],\n",
       "       ...,\n",
       "       [0., 0., 0., ..., 0., 0., 0.],\n",
       "       [0., 0., 0., ..., 0., 0., 0.],\n",
       "       [0., 0., 0., ..., 0., 1., 0.]], dtype=float32)"
      ]
     },
     "execution_count": 31,
     "metadata": {
      "tags": []
     },
     "output_type": "execute_result"
    }
   ],
   "source": [
    "y_train"
   ]
  },
  {
   "cell_type": "code",
   "execution_count": 5,
   "metadata": {
    "colab": {
     "base_uri": "https://localhost:8080/",
     "height": 35
    },
    "colab_type": "code",
    "executionInfo": {
     "elapsed": 5308,
     "status": "ok",
     "timestamp": 1594531781383,
     "user": {
      "displayName": "Soharab Hossain Shaikh",
      "photoUrl": "https://lh3.googleusercontent.com/a-/AOh14GhBdf9_yxWk3w2Eoi255TRwwwdECUWdZJ9Hht8S=s64",
      "userId": "09822763254488834038"
     },
     "user_tz": -330
    },
    "id": "8QSSU0IjIjgJ",
    "outputId": "f57ee534-e023-4490-df25-3b3a22c8c007"
   },
   "outputs": [
    {
     "data": {
      "text/plain": [
       "(60000, 784)"
      ]
     },
     "execution_count": 5,
     "metadata": {
      "tags": []
     },
     "output_type": "execute_result"
    }
   ],
   "source": [
    "x_train.shape"
   ]
  },
  {
   "cell_type": "code",
   "execution_count": 6,
   "metadata": {
    "colab": {
     "base_uri": "https://localhost:8080/",
     "height": 35
    },
    "colab_type": "code",
    "executionInfo": {
     "elapsed": 5296,
     "status": "ok",
     "timestamp": 1594531781387,
     "user": {
      "displayName": "Soharab Hossain Shaikh",
      "photoUrl": "https://lh3.googleusercontent.com/a-/AOh14GhBdf9_yxWk3w2Eoi255TRwwwdECUWdZJ9Hht8S=s64",
      "userId": "09822763254488834038"
     },
     "user_tz": -330
    },
    "id": "3athbLb7I6CD",
    "outputId": "50b4b86b-e19b-4dae-a03c-4f2cb6f9a0c8"
   },
   "outputs": [
    {
     "data": {
      "text/plain": [
       "(784,)"
      ]
     },
     "execution_count": 6,
     "metadata": {
      "tags": []
     },
     "output_type": "execute_result"
    }
   ],
   "source": [
    "x_train[0,:].shape"
   ]
  },
  {
   "cell_type": "code",
   "execution_count": 7,
   "metadata": {
    "colab": {
     "base_uri": "https://localhost:8080/",
     "height": 35
    },
    "colab_type": "code",
    "executionInfo": {
     "elapsed": 5286,
     "status": "ok",
     "timestamp": 1594531781390,
     "user": {
      "displayName": "Soharab Hossain Shaikh",
      "photoUrl": "https://lh3.googleusercontent.com/a-/AOh14GhBdf9_yxWk3w2Eoi255TRwwwdECUWdZJ9Hht8S=s64",
      "userId": "09822763254488834038"
     },
     "user_tz": -330
    },
    "id": "VIUn4Wj-In1M",
    "outputId": "40547f1c-3522-490d-f8a7-5cc381dafba2"
   },
   "outputs": [
    {
     "data": {
      "text/plain": [
       "(60000, 10)"
      ]
     },
     "execution_count": 7,
     "metadata": {
      "tags": []
     },
     "output_type": "execute_result"
    }
   ],
   "source": [
    "y_train.shape"
   ]
  },
  {
   "cell_type": "markdown",
   "metadata": {
    "colab_type": "text",
    "id": "EUU6DpMX28rg"
   },
   "source": [
    "### Build the ANN with Sequential Model\n",
    "\n",
    "**A Sequential model is appropriate for a plain stack of layers where each layer has exactly one input tensor and one output tensor.**"
   ]
  },
  {
   "cell_type": "code",
   "execution_count": 8,
   "metadata": {
    "colab": {
     "base_uri": "https://localhost:8080/",
     "height": 345
    },
    "colab_type": "code",
    "executionInfo": {
     "elapsed": 5276,
     "status": "ok",
     "timestamp": 1594531781393,
     "user": {
      "displayName": "Soharab Hossain Shaikh",
      "photoUrl": "https://lh3.googleusercontent.com/a-/AOh14GhBdf9_yxWk3w2Eoi255TRwwwdECUWdZJ9Hht8S=s64",
      "userId": "09822763254488834038"
     },
     "user_tz": -330
    },
    "id": "8pBPGMctwueu",
    "outputId": "6fb1d3ae-7371-4ad8-84df-8242cb5d4a4a"
   },
   "outputs": [
    {
     "name": "stdout",
     "output_type": "stream",
     "text": [
      "Model: \"sequential_1\"\n",
      "_________________________________________________________________\n",
      "Layer (type)                 Output Shape              Param #   \n",
      "=================================================================\n",
      "dense_1 (Dense)              (None, 512)               401920    \n",
      "_________________________________________________________________\n",
      "dropout_1 (Dropout)          (None, 512)               0         \n",
      "_________________________________________________________________\n",
      "dense_2 (Dense)              (None, 512)               262656    \n",
      "_________________________________________________________________\n",
      "dropout_2 (Dropout)          (None, 512)               0         \n",
      "_________________________________________________________________\n",
      "dense_3 (Dense)              (None, 10)                5130      \n",
      "=================================================================\n",
      "Total params: 669,706\n",
      "Trainable params: 669,706\n",
      "Non-trainable params: 0\n",
      "_________________________________________________________________\n"
     ]
    }
   ],
   "source": [
    "model = Sequential()\n",
    "model.add(Dense(512, activation='relu', input_shape=(784,)))\n",
    "model.add(Dropout(0.2))\n",
    "model.add(Dense(512, activation='relu'))\n",
    "model.add(Dropout(0.2))\n",
    "\n",
    "model.add(Dense(num_classes, activation='softmax'))\n",
    "\n",
    "model.summary()\n",
    "\n",
    "model.compile(loss='categorical_crossentropy', optimizer=RMSprop(), metrics=['accuracy'])\n"
   ]
  },
  {
   "cell_type": "markdown",
   "metadata": {
    "colab_type": "text",
    "id": "UTVVDLId3lD-"
   },
   "source": [
    "### Train the Model"
   ]
  },
  {
   "cell_type": "code",
   "execution_count": 9,
   "metadata": {
    "colab": {
     "base_uri": "https://localhost:8080/",
     "height": 783
    },
    "colab_type": "code",
    "executionInfo": {
     "elapsed": 166201,
     "status": "ok",
     "timestamp": 1594531942330,
     "user": {
      "displayName": "Soharab Hossain Shaikh",
      "photoUrl": "https://lh3.googleusercontent.com/a-/AOh14GhBdf9_yxWk3w2Eoi255TRwwwdECUWdZJ9Hht8S=s64",
      "userId": "09822763254488834038"
     },
     "user_tz": -330
    },
    "id": "ADH4NNcuzbhk",
    "outputId": "efb9885b-208b-41c0-f3c9-06cf35468cae"
   },
   "outputs": [
    {
     "name": "stdout",
     "output_type": "stream",
     "text": [
      "Train on 60000 samples, validate on 10000 samples\n",
      "Epoch 1/20\n",
      "60000/60000 [==============================] - 9s 142us/step - loss: 0.2446 - accuracy: 0.9246 - val_loss: 0.1055 - val_accuracy: 0.9674\n",
      "Epoch 2/20\n",
      "60000/60000 [==============================] - 8s 134us/step - loss: 0.1045 - accuracy: 0.9683 - val_loss: 0.0819 - val_accuracy: 0.9746\n",
      "Epoch 3/20\n",
      "60000/60000 [==============================] - 8s 133us/step - loss: 0.0756 - accuracy: 0.9767 - val_loss: 0.0863 - val_accuracy: 0.9750\n",
      "Epoch 4/20\n",
      "60000/60000 [==============================] - 8s 133us/step - loss: 0.0585 - accuracy: 0.9817 - val_loss: 0.0817 - val_accuracy: 0.9769\n",
      "Epoch 5/20\n",
      "60000/60000 [==============================] - 8s 133us/step - loss: 0.0483 - accuracy: 0.9849 - val_loss: 0.0718 - val_accuracy: 0.9825\n",
      "Epoch 6/20\n",
      "60000/60000 [==============================] - 8s 133us/step - loss: 0.0428 - accuracy: 0.9872 - val_loss: 0.0764 - val_accuracy: 0.9817\n",
      "Epoch 7/20\n",
      "60000/60000 [==============================] - 8s 134us/step - loss: 0.0397 - accuracy: 0.9882 - val_loss: 0.0758 - val_accuracy: 0.9809\n",
      "Epoch 8/20\n",
      "60000/60000 [==============================] - 8s 134us/step - loss: 0.0338 - accuracy: 0.9899 - val_loss: 0.0804 - val_accuracy: 0.9820\n",
      "Epoch 9/20\n",
      "60000/60000 [==============================] - 8s 134us/step - loss: 0.0305 - accuracy: 0.9905 - val_loss: 0.0901 - val_accuracy: 0.9809\n",
      "Epoch 10/20\n",
      "60000/60000 [==============================] - 8s 134us/step - loss: 0.0283 - accuracy: 0.9918 - val_loss: 0.0848 - val_accuracy: 0.9824\n",
      "Epoch 11/20\n",
      "60000/60000 [==============================] - 8s 135us/step - loss: 0.0273 - accuracy: 0.9919 - val_loss: 0.1071 - val_accuracy: 0.9800\n",
      "Epoch 12/20\n",
      "60000/60000 [==============================] - 8s 133us/step - loss: 0.0226 - accuracy: 0.9934 - val_loss: 0.0990 - val_accuracy: 0.9823\n",
      "Epoch 13/20\n",
      "60000/60000 [==============================] - 8s 134us/step - loss: 0.0228 - accuracy: 0.9935 - val_loss: 0.1026 - val_accuracy: 0.9823\n",
      "Epoch 14/20\n",
      "60000/60000 [==============================] - 8s 133us/step - loss: 0.0224 - accuracy: 0.9934 - val_loss: 0.0961 - val_accuracy: 0.9834\n",
      "Epoch 15/20\n",
      "60000/60000 [==============================] - 8s 134us/step - loss: 0.0208 - accuracy: 0.9942 - val_loss: 0.0979 - val_accuracy: 0.9844\n",
      "Epoch 16/20\n",
      "60000/60000 [==============================] - 8s 133us/step - loss: 0.0200 - accuracy: 0.9944 - val_loss: 0.1121 - val_accuracy: 0.9843\n",
      "Epoch 17/20\n",
      "60000/60000 [==============================] - 8s 134us/step - loss: 0.0197 - accuracy: 0.9948 - val_loss: 0.1101 - val_accuracy: 0.9826\n",
      "Epoch 18/20\n",
      "60000/60000 [==============================] - 8s 135us/step - loss: 0.0183 - accuracy: 0.9951 - val_loss: 0.1147 - val_accuracy: 0.9834\n",
      "Epoch 19/20\n",
      "60000/60000 [==============================] - 8s 134us/step - loss: 0.0165 - accuracy: 0.9953 - val_loss: 0.1081 - val_accuracy: 0.9842\n",
      "Epoch 20/20\n",
      "60000/60000 [==============================] - 8s 133us/step - loss: 0.0166 - accuracy: 0.9955 - val_loss: 0.1136 - val_accuracy: 0.9831\n"
     ]
    }
   ],
   "source": [
    "history = model.fit(x_train, y_train, batch_size=batch_size, epochs=epochs, verbose=1, validation_data=(x_test, y_test))"
   ]
  },
  {
   "cell_type": "markdown",
   "metadata": {
    "colab_type": "text",
    "id": "-1IZnQmeC9uK"
   },
   "source": [
    "### Plot the History of Accuracy and Loss\n",
    "Plot the history of the model suring training. How te accuracy changes over time. How the profile of the loss funcrtion changes over the number of training iterations."
   ]
  },
  {
   "cell_type": "code",
   "execution_count": 12,
   "metadata": {
    "colab": {
     "base_uri": "https://localhost:8080/",
     "height": 35
    },
    "colab_type": "code",
    "executionInfo": {
     "elapsed": 1030,
     "status": "ok",
     "timestamp": 1594532059538,
     "user": {
      "displayName": "Soharab Hossain Shaikh",
      "photoUrl": "https://lh3.googleusercontent.com/a-/AOh14GhBdf9_yxWk3w2Eoi255TRwwwdECUWdZJ9Hht8S=s64",
      "userId": "09822763254488834038"
     },
     "user_tz": -330
    },
    "id": "0IjTsAYPg8Fj",
    "outputId": "484654d6-bd16-4f95-d626-e551cf599af6"
   },
   "outputs": [
    {
     "data": {
      "text/plain": [
       "dict_keys(['val_loss', 'val_accuracy', 'loss', 'accuracy'])"
      ]
     },
     "execution_count": 12,
     "metadata": {
      "tags": []
     },
     "output_type": "execute_result"
    }
   ],
   "source": [
    "history.history.keys()"
   ]
  },
  {
   "cell_type": "code",
   "execution_count": 13,
   "metadata": {
    "colab": {
     "base_uri": "https://localhost:8080/",
     "height": 573
    },
    "colab_type": "code",
    "executionInfo": {
     "elapsed": 1317,
     "status": "ok",
     "timestamp": 1594532070291,
     "user": {
      "displayName": "Soharab Hossain Shaikh",
      "photoUrl": "https://lh3.googleusercontent.com/a-/AOh14GhBdf9_yxWk3w2Eoi255TRwwwdECUWdZJ9Hht8S=s64",
      "userId": "09822763254488834038"
     },
     "user_tz": -330
    },
    "id": "IfVbq26pC5ko",
    "outputId": "09d25d3a-9608-4194-89b8-b4dfea95ae3a"
   },
   "outputs": [
    {
     "data": {
      "image/png": "[encoded data removed]",
      "text/plain": [
       "<Figure size 432x288 with 1 Axes>"
      ]
     },
     "metadata": {
      "needs_background": "light",
      "tags": []
     },
     "output_type": "display_data"
    },
    {
     "data": {
      "image/png": "[encoded data removed]",
      "text/plain": [
       "<Figure size 432x288 with 1 Axes>"
      ]
     },
     "metadata": {
      "needs_background": "light",
      "tags": []
     },
     "output_type": "display_data"
    }
   ],
   "source": [
    "import matplotlib.pyplot as plt\n",
    "\n",
    "# Summarize History for Accuracy\n",
    "plt.plot(history.history['accuracy'])\n",
    "plt.plot(history.history['val_accuracy'])\n",
    "plt.title('model accuracy')\n",
    "plt.ylabel('accuracy')\n",
    "plt.xlabel('epoch')\n",
    "plt.legend(['train', 'test'], loc='upper left')\n",
    "plt.show()\n",
    "\n",
    "# Summarize History for the Loss\n",
    "plt.plot(history.history['loss'])\n",
    "plt.plot(history.history['val_loss'])\n",
    "plt.title('model loss')\n",
    "plt.ylabel('loss')\n",
    "plt.xlabel('epoch')\n",
    "plt.legend(['train', 'test'], loc='upper left')\n",
    "plt.show()"
   ]
  },
  {
   "cell_type": "markdown",
   "metadata": {
    "colab_type": "text",
    "id": "WGuKSTwOiyZM"
   },
   "source": [
    "### Make Prediction"
   ]
  },
  {
   "cell_type": "code",
   "execution_count": 24,
   "metadata": {
    "colab": {
     "base_uri": "https://localhost:8080/",
     "height": 301
    },
    "colab_type": "code",
    "executionInfo": {
     "elapsed": 1627,
     "status": "ok",
     "timestamp": 1594532427676,
     "user": {
      "displayName": "Soharab Hossain Shaikh",
      "photoUrl": "https://lh3.googleusercontent.com/a-/AOh14GhBdf9_yxWk3w2Eoi255TRwwwdECUWdZJ9Hht8S=s64",
      "userId": "09822763254488834038"
     },
     "user_tz": -330
    },
    "id": "EINjsm1vhzPd",
    "outputId": "402ef266-bf97-4e06-b73d-f8ace400e42b"
   },
   "outputs": [
    {
     "data": {
      "image/png": "[encoded data removed]",
      "text/plain": [
       "<Figure size 432x288 with 1 Axes>"
      ]
     },
     "metadata": {
      "needs_background": "light",
      "tags": []
     },
     "output_type": "display_data"
    },
    {
     "name": "stdout",
     "output_type": "stream",
     "text": [
      " Real label : 6\n",
      " Predicted label: 6\n"
     ]
    }
   ],
   "source": [
    "predicted = model.predict(x_test)\n",
    "\n",
    "ind = 2000\n",
    "sample_image = x_test[ind]\n",
    "\n",
    "pixels = sample_image.reshape((28, 28))\n",
    "plt.imshow(pixels, cmap='gray')\n",
    "plt.show()\n",
    "print(' Real label :',np.argmax(y_test[ind]))\n",
    "print(' Predicted label:',np.argmax(predicted[ind]))"
   ]
  },
  {
   "cell_type": "code",
   "execution_count": 25,
   "metadata": {
    "colab": {
     "base_uri": "https://localhost:8080/",
     "height": 301
    },
    "colab_type": "code",
    "executionInfo": {
     "elapsed": 1614,
     "status": "ok",
     "timestamp": 1594532494766,
     "user": {
      "displayName": "Soharab Hossain Shaikh",
      "photoUrl": "https://lh3.googleusercontent.com/a-/AOh14GhBdf9_yxWk3w2Eoi255TRwwwdECUWdZJ9Hht8S=s64",
      "userId": "09822763254488834038"
     },
     "user_tz": -330
    },
    "id": "c2qLF-4VitO5",
    "outputId": "f9bde4b7-010c-423e-cb99-d39883db4651"
   },
   "outputs": [
    {
     "data": {
      "image/png": "[encoded data removed]",
      "text/plain": [
       "<Figure size 432x288 with 1 Axes>"
      ]
     },
     "metadata": {
      "needs_background": "light",
      "tags": []
     },
     "output_type": "display_data"
    },
    {
     "name": "stdout",
     "output_type": "stream",
     "text": [
      " Real label : 9\n",
      " Predicted label: 9\n"
     ]
    }
   ],
   "source": [
    "predicted = model.predict(x_test)\n",
    "\n",
    "ind = 1000\n",
    "sample_image = x_test[ind]\n",
    "\n",
    "pixels = sample_image.reshape((28, 28))\n",
    "plt.imshow(pixels, cmap='gray')\n",
    "plt.show()\n",
    "print(' Real label :',np.argmax(y_test[ind]))\n",
    "print(' Predicted label:',np.argmax(predicted[ind]))"
   ]
  },
  {
   "cell_type": "markdown",
   "metadata": {
    "colab_type": "text",
    "id": "4n9yrM0o3tUD"
   },
   "source": [
    "### Evaluate on Test Set"
   ]
  },
  {
   "cell_type": "code",
   "execution_count": 14,
   "metadata": {
    "colab": {
     "base_uri": "https://localhost:8080/",
     "height": 53
    },
    "colab_type": "code",
    "executionInfo": {
     "elapsed": 1788,
     "status": "ok",
     "timestamp": 1594532077974,
     "user": {
      "displayName": "Soharab Hossain Shaikh",
      "photoUrl": "https://lh3.googleusercontent.com/a-/AOh14GhBdf9_yxWk3w2Eoi255TRwwwdECUWdZJ9Hht8S=s64",
      "userId": "09822763254488834038"
     },
     "user_tz": -330
    },
    "id": "UB8Pan4gzdru",
    "outputId": "9fcbf979-0178-4883-865e-dcb78310b07e"
   },
   "outputs": [
    {
     "name": "stdout",
     "output_type": "stream",
     "text": [
      "Test loss: 0.11357388243131608\n",
      "Test accuracy: 0.9830999970436096\n"
     ]
    }
   ],
   "source": [
    "score = model.evaluate(x_test, y_test, verbose=0)\n",
    "\n",
    "print('Test loss:', score[0])\n",
    "print('Test accuracy:', score[1])"
   ]
  }
 ],
 "metadata": {
  "colab": {
   "collapsed_sections": [],
   "name": "MLP_MNIST_Keras_Classification.ipynb",
   "provenance": []
  },
  "kernelspec": {
   "display_name": "Python 3",
   "language": "python",
   "name": "python3"
  },
  "language_info": {
   "codemirror_mode": {
    "name": "ipython",
    "version": 3
   },
   "file_extension": ".py",
   "mimetype": "text/x-python",
   "name": "python",
   "nbconvert_exporter": "python",
   "pygments_lexer": "ipython3",
   "version": "3.8.1"
  }
 },
 "nbformat": 4,
 "nbformat_minor": 1
}
